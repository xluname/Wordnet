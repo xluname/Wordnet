{
  "nbformat": 4,
  "nbformat_minor": 0,
  "metadata": {
    "colab": {
      "provenance": [],
      "authorship_tag": "ABX9TyMs/KReR8SQ3FBtjG+AJ71O",
      "include_colab_link": true
    },
    "kernelspec": {
      "name": "python3",
      "display_name": "Python 3"
    },
    "language_info": {
      "name": "python"
    }
  },
  "cells": [
    {
      "cell_type": "markdown",
      "metadata": {
        "id": "view-in-github",
        "colab_type": "text"
      },
      "source": [
        "<a href=\"https://colab.research.google.com/github/xluname/Wordnet/blob/main/wordnet.ipynb\" target=\"_parent\"><img src=\"https://colab.research.google.com/assets/colab-badge.svg\" alt=\"Open In Colab\"/></a>"
      ]
    },
    {
      "cell_type": "code",
      "execution_count": null,
      "metadata": {
        "colab": {
          "base_uri": "https://localhost:8080/"
        },
        "id": "mftzK5i1Umb_",
        "outputId": "0bdfa7d8-9528-4767-9efe-eaa939dd4f35"
      },
      "outputs": [
        {
          "output_type": "stream",
          "name": "stderr",
          "text": [
            "[nltk_data] Downloading package wordnet to /root/nltk_data...\n"
          ]
        },
        {
          "output_type": "execute_result",
          "data": {
            "text/plain": [
              "True"
            ]
          },
          "metadata": {},
          "execution_count": 3
        }
      ],
      "source": [
        "import nltk\n",
        "nltk.download('wordnet')"
      ]
    },
    {
      "cell_type": "code",
      "source": [
        "from nltk.corpus import wordnet\n",
        "antonyms=[]\n",
        "for s in wordnet.synsets('courageous'):\n",
        "    for lemma in s.lemmas():\n",
        "        for ant in wordnet.synsets(lemma.name()):\n",
        "            for ant_lemma in ant.lemmas():\n",
        "                if ant_lemma.antonyms():\n",
        "                    antonyms.append(ant_lemma.antonyms()[0].name())\n",
        "                    break\n",
        "            if len(antonyms) >= 2:\n",
        "                break\n",
        "        if len(antonyms) >= 2:\n",
        "            break\n",
        "    if len(antonyms) >= 2:\n",
        "        break\n",
        "\n",
        "if len(antonyms) >= 2:\n",
        "    print(\"Antonym 1 of courageous =\", antonyms[0])\n",
        "    print(\"Antonym 2 of courageous =\", antonyms[1])\n",
        "elif len(antonyms) == 1:\n",
        "    print(\"Only one antonym found for 'courageous':\", antonyms[0])\n",
        "else:\n",
        "    print(\"No antonyms found for 'courageous'\")"
      ],
      "metadata": {
        "id": "FtJ-NzdlXkCR"
      },
      "execution_count": 5,
      "outputs": []
    }
  ]
}